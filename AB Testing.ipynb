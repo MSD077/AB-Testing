{
 "cells": [
  {
   "cell_type": "markdown",
   "id": "0814106f",
   "metadata": {},
   "source": [
    "# A/B Testing\n",
    "\n",
    "### Dataset used - Mobile Game Cookie Cats\n"
   ]
  },
  {
   "cell_type": "markdown",
   "id": "43004091",
   "metadata": {},
   "source": [
    "## Variables in the dataset:\n",
    "\n",
    "- userid: A unique number that identifies each player.\n",
    "- version: Whether the player was put in the control group (gate_30 - a gate at level 30) or the group with the moved gate (gate_40 - a gate at level 40).\n",
    "- sum_gamerounds: The number of game rounds played by the player during the first 14 days after install.\n",
    "- retention_1: Did the player come back and play 1 day after installing?\n",
    "- retention_7: Did the player come back and play 7 days after installing?"
   ]
  },
  {
   "cell_type": "markdown",
   "id": "e916a441",
   "metadata": {},
   "source": [
    "When a player installed the game, he or she was randomly assigned to either gate_30 or gate_40. In this project, I will perform A/B test to see if there are any benefits where the first gate in Cookie Cats was moved from level 30 to level 40."
   ]
  },
  {
   "cell_type": "code",
   "execution_count": 1,
   "id": "ad42253b",
   "metadata": {},
   "outputs": [],
   "source": [
    "import pandas as pd\n",
    "import numpy as np\n",
    "import seaborn as sns\n",
    "import matplotlib.pyplot as plt\n",
    "from scipy.stats import shapiro, levene, ttest_ind, mannwhitneyu\n",
    "\n",
    "import warnings\n",
    "warnings.filterwarnings(\"ignore\")\n"
   ]
  },
  {
   "cell_type": "code",
   "execution_count": 2,
   "id": "fe396fc3",
   "metadata": {},
   "outputs": [],
   "source": [
    "df = pd.read_csv('cookie_cats.csv')"
   ]
  },
  {
   "cell_type": "code",
   "execution_count": 3,
   "id": "aafb76f4",
   "metadata": {},
   "outputs": [
    {
     "data": {
      "text/html": [
       "<div>\n",
       "<style scoped>\n",
       "    .dataframe tbody tr th:only-of-type {\n",
       "        vertical-align: middle;\n",
       "    }\n",
       "\n",
       "    .dataframe tbody tr th {\n",
       "        vertical-align: top;\n",
       "    }\n",
       "\n",
       "    .dataframe thead th {\n",
       "        text-align: right;\n",
       "    }\n",
       "</style>\n",
       "<table border=\"1\" class=\"dataframe\">\n",
       "  <thead>\n",
       "    <tr style=\"text-align: right;\">\n",
       "      <th></th>\n",
       "      <th>userid</th>\n",
       "      <th>version</th>\n",
       "      <th>sum_gamerounds</th>\n",
       "      <th>retention_1</th>\n",
       "      <th>retention_7</th>\n",
       "    </tr>\n",
       "  </thead>\n",
       "  <tbody>\n",
       "    <tr>\n",
       "      <th>0</th>\n",
       "      <td>116</td>\n",
       "      <td>gate_30</td>\n",
       "      <td>3</td>\n",
       "      <td>False</td>\n",
       "      <td>False</td>\n",
       "    </tr>\n",
       "    <tr>\n",
       "      <th>1</th>\n",
       "      <td>337</td>\n",
       "      <td>gate_30</td>\n",
       "      <td>38</td>\n",
       "      <td>True</td>\n",
       "      <td>False</td>\n",
       "    </tr>\n",
       "    <tr>\n",
       "      <th>2</th>\n",
       "      <td>377</td>\n",
       "      <td>gate_40</td>\n",
       "      <td>165</td>\n",
       "      <td>True</td>\n",
       "      <td>False</td>\n",
       "    </tr>\n",
       "    <tr>\n",
       "      <th>3</th>\n",
       "      <td>483</td>\n",
       "      <td>gate_40</td>\n",
       "      <td>1</td>\n",
       "      <td>False</td>\n",
       "      <td>False</td>\n",
       "    </tr>\n",
       "    <tr>\n",
       "      <th>4</th>\n",
       "      <td>488</td>\n",
       "      <td>gate_40</td>\n",
       "      <td>179</td>\n",
       "      <td>True</td>\n",
       "      <td>True</td>\n",
       "    </tr>\n",
       "  </tbody>\n",
       "</table>\n",
       "</div>"
      ],
      "text/plain": [
       "   userid  version  sum_gamerounds  retention_1  retention_7\n",
       "0     116  gate_30               3        False        False\n",
       "1     337  gate_30              38         True        False\n",
       "2     377  gate_40             165         True        False\n",
       "3     483  gate_40               1        False        False\n",
       "4     488  gate_40             179         True         True"
      ]
     },
     "execution_count": 3,
     "metadata": {},
     "output_type": "execute_result"
    }
   ],
   "source": [
    "df.head()"
   ]
  },
  {
   "cell_type": "code",
   "execution_count": 4,
   "id": "aafd1182",
   "metadata": {},
   "outputs": [
    {
     "data": {
      "text/plain": [
       "(90189, 5)"
      ]
     },
     "execution_count": 4,
     "metadata": {},
     "output_type": "execute_result"
    }
   ],
   "source": [
    "df.shape"
   ]
  },
  {
   "cell_type": "code",
   "execution_count": 5,
   "id": "4bbc451a",
   "metadata": {},
   "outputs": [
    {
     "data": {
      "text/plain": [
       "userid            0\n",
       "version           0\n",
       "sum_gamerounds    0\n",
       "retention_1       0\n",
       "retention_7       0\n",
       "dtype: int64"
      ]
     },
     "execution_count": 5,
     "metadata": {},
     "output_type": "execute_result"
    }
   ],
   "source": [
    "df.isnull().sum()"
   ]
  },
  {
   "cell_type": "code",
   "execution_count": 6,
   "id": "415a33d0",
   "metadata": {},
   "outputs": [
    {
     "data": {
      "text/html": [
       "<div>\n",
       "<style scoped>\n",
       "    .dataframe tbody tr th:only-of-type {\n",
       "        vertical-align: middle;\n",
       "    }\n",
       "\n",
       "    .dataframe tbody tr th {\n",
       "        vertical-align: top;\n",
       "    }\n",
       "\n",
       "    .dataframe thead th {\n",
       "        text-align: right;\n",
       "    }\n",
       "</style>\n",
       "<table border=\"1\" class=\"dataframe\">\n",
       "  <thead>\n",
       "    <tr style=\"text-align: right;\">\n",
       "      <th></th>\n",
       "      <th>userid</th>\n",
       "      <th>sum_gamerounds</th>\n",
       "    </tr>\n",
       "  </thead>\n",
       "  <tbody>\n",
       "    <tr>\n",
       "      <th>count</th>\n",
       "      <td>9.018900e+04</td>\n",
       "      <td>90189.000000</td>\n",
       "    </tr>\n",
       "    <tr>\n",
       "      <th>mean</th>\n",
       "      <td>4.998412e+06</td>\n",
       "      <td>51.872457</td>\n",
       "    </tr>\n",
       "    <tr>\n",
       "      <th>std</th>\n",
       "      <td>2.883286e+06</td>\n",
       "      <td>195.050858</td>\n",
       "    </tr>\n",
       "    <tr>\n",
       "      <th>min</th>\n",
       "      <td>1.160000e+02</td>\n",
       "      <td>0.000000</td>\n",
       "    </tr>\n",
       "    <tr>\n",
       "      <th>25%</th>\n",
       "      <td>2.512230e+06</td>\n",
       "      <td>5.000000</td>\n",
       "    </tr>\n",
       "    <tr>\n",
       "      <th>50%</th>\n",
       "      <td>4.995815e+06</td>\n",
       "      <td>16.000000</td>\n",
       "    </tr>\n",
       "    <tr>\n",
       "      <th>75%</th>\n",
       "      <td>7.496452e+06</td>\n",
       "      <td>51.000000</td>\n",
       "    </tr>\n",
       "    <tr>\n",
       "      <th>max</th>\n",
       "      <td>9.999861e+06</td>\n",
       "      <td>49854.000000</td>\n",
       "    </tr>\n",
       "  </tbody>\n",
       "</table>\n",
       "</div>"
      ],
      "text/plain": [
       "             userid  sum_gamerounds\n",
       "count  9.018900e+04    90189.000000\n",
       "mean   4.998412e+06       51.872457\n",
       "std    2.883286e+06      195.050858\n",
       "min    1.160000e+02        0.000000\n",
       "25%    2.512230e+06        5.000000\n",
       "50%    4.995815e+06       16.000000\n",
       "75%    7.496452e+06       51.000000\n",
       "max    9.999861e+06    49854.000000"
      ]
     },
     "execution_count": 6,
     "metadata": {},
     "output_type": "execute_result"
    }
   ],
   "source": [
    "df.describe()"
   ]
  },
  {
   "cell_type": "code",
   "execution_count": 7,
   "id": "4ce382a5",
   "metadata": {},
   "outputs": [
    {
     "name": "stdout",
     "output_type": "stream",
     "text": [
      "<class 'pandas.core.frame.DataFrame'>\n",
      "RangeIndex: 90189 entries, 0 to 90188\n",
      "Data columns (total 5 columns):\n",
      " #   Column          Non-Null Count  Dtype \n",
      "---  ------          --------------  ----- \n",
      " 0   userid          90189 non-null  int64 \n",
      " 1   version         90189 non-null  object\n",
      " 2   sum_gamerounds  90189 non-null  int64 \n",
      " 3   retention_1     90189 non-null  bool  \n",
      " 4   retention_7     90189 non-null  bool  \n",
      "dtypes: bool(2), int64(2), object(1)\n",
      "memory usage: 2.2+ MB\n"
     ]
    }
   ],
   "source": [
    "df.info()"
   ]
  },
  {
   "cell_type": "code",
   "execution_count": 8,
   "id": "02985a2e",
   "metadata": {},
   "outputs": [
    {
     "data": {
      "text/plain": [
       "gate_40    45489\n",
       "gate_30    44700\n",
       "Name: version, dtype: int64"
      ]
     },
     "execution_count": 8,
     "metadata": {},
     "output_type": "execute_result"
    }
   ],
   "source": [
    "df['version'].value_counts()"
   ]
  },
  {
   "cell_type": "code",
   "execution_count": 9,
   "id": "d7812d5a",
   "metadata": {},
   "outputs": [
    {
     "data": {
      "text/plain": [
       "gate_40    0.504374\n",
       "gate_30    0.495626\n",
       "Name: version, dtype: float64"
      ]
     },
     "execution_count": 9,
     "metadata": {},
     "output_type": "execute_result"
    }
   ],
   "source": [
    "df['version'].value_counts(normalize = True)"
   ]
  },
  {
   "cell_type": "code",
   "execution_count": 10,
   "id": "1223f777",
   "metadata": {},
   "outputs": [
    {
     "data": {
      "text/plain": [
       "Text(0, 0.5, '# or People')"
      ]
     },
     "execution_count": 10,
     "metadata": {},
     "output_type": "execute_result"
    },
    {
     "data": {
      "image/png": "[encoded data removed]",
      "text/plain": [
       "<Figure size 640x480 with 1 Axes>"
      ]
     },
     "metadata": {},
     "output_type": "display_data"
    }
   ],
   "source": [
    "df['version'].value_counts().plot(kind = 'bar',color=[  \"#00203FFF\", \"#ADEFD1FF\"])\n",
    "plt.title('Control vs Experimental Group Distribution')\n",
    "plt.ylabel(\"# or People\")"
   ]
  },
  {
   "cell_type": "markdown",
   "id": "8a166fa6",
   "metadata": {},
   "source": [
    "# Sum of Game Rounds"
   ]
  },
  {
   "cell_type": "code",
   "execution_count": 11,
   "id": "72e10d59",
   "metadata": {},
   "outputs": [
    {
     "data": {
      "text/plain": [
       "Text(0.5, 1.0, 'Mean Gamerounds for Control vs Experiment Groups')"
      ]
     },
     "execution_count": 11,
     "metadata": {},
     "output_type": "execute_result"
    },
    {
     "data": {
      "image/png": "[encoded data removed]",
      "text/plain": [
       "<Figure size 640x480 with 1 Axes>"
      ]
     },
     "metadata": {},
     "output_type": "display_data"
    }
   ],
   "source": [
    "df.groupby(['version'])['sum_gamerounds'].mean().plot(kind = 'bar', color=[ \"#00203FFF\", \"#ADEFD1FF\"])\n",
    "plt.ylabel(\"Mean of Gamerounds\")\n",
    "plt.title('Mean Gamerounds for Control vs Experiment Groups')"
   ]
  },
  {
   "cell_type": "code",
   "execution_count": 12,
   "id": "e3a18f6e",
   "metadata": {},
   "outputs": [
    {
     "data": {
      "text/plain": [
       "<AxesSubplot: ylabel='Frequency'>"
      ]
     },
     "execution_count": 12,
     "metadata": {},
     "output_type": "execute_result"
    },
    {
     "data": {
      "image/png": "[encoded data removed]",
      "text/plain": [
       "<Figure size 640x480 with 2 Axes>"
      ]
     },
     "metadata": {},
     "output_type": "display_data"
    }
   ],
   "source": [
    "plt.subplot(221)\n",
    "df[df['version'] == 'gate_30']['sum_gamerounds'].plot(kind = 'hist')\n",
    "\n",
    "plt.subplot(222)\n",
    "df[df['version'] == 'gate_40']['sum_gamerounds'].plot(kind = 'hist')"
   ]
  },
  {
   "cell_type": "code",
   "execution_count": 13,
   "id": "afeee3c5",
   "metadata": {},
   "outputs": [
    {
     "data": {
      "text/plain": [
       "Text(0.5, 1.0, 'Box Plot to Identify Outliers')"
      ]
     },
     "execution_count": 13,
     "metadata": {},
     "output_type": "execute_result"
    },
    {
     "data": {
      "image/png": "[encoded data removed]",
      "text/plain": [
       "<Figure size 640x480 with 1 Axes>"
      ]
     },
     "metadata": {},
     "output_type": "display_data"
    }
   ],
   "source": [
    "sns.boxplot(data=df, x=\"version\", y=\"sum_gamerounds\")\n",
    "plt.ylabel('Number of Game Rounds')\n",
    "plt.title('Box Plot to Identify Outliers')"
   ]
  },
  {
   "cell_type": "markdown",
   "id": "87a4f668",
   "metadata": {},
   "source": [
    "## From the boxplot, we see that there are clear outliers, we will remove them using interquartile range method.\n",
    "\n",
    "### We will remove values based on 1.5 * (99th percentile - 1st percentile)"
   ]
  },
  {
   "cell_type": "markdown",
   "id": "cfe674e6",
   "metadata": {},
   "source": [
    "# Removing Outliers using IQR"
   ]
  },
  {
   "cell_type": "code",
   "execution_count": 14,
   "id": "7d9eff1e",
   "metadata": {},
   "outputs": [
    {
     "name": "stdout",
     "output_type": "stream",
     "text": [
      "Interquartile Range:  493.0\n",
      "Cutoff:  739.5\n"
     ]
    }
   ],
   "source": [
    "q1 = np.percentile(df['sum_gamerounds'], 1)\n",
    "q99 = np.percentile(df['sum_gamerounds'], 99)\n",
    "iqr = q99 - q1\n",
    "cut_off = 1.5*iqr\n",
    "print('Interquartile Range: ', iqr)\n",
    "print('Cutoff: ', cut_off)"
   ]
  },
  {
   "cell_type": "code",
   "execution_count": 15,
   "id": "5a2c712b",
   "metadata": {},
   "outputs": [
    {
     "name": "stdout",
     "output_type": "stream",
     "text": [
      "Upper cutoff:  1232.5\n",
      "Lower cutoff:  -739.5\n"
     ]
    }
   ],
   "source": [
    "upper_cutoff = q99 + 1.5 * iqr\n",
    "lower_cutoff = q1 - 1.5 * iqr\n",
    "\n",
    "print('Upper cutoff: ', upper_cutoff)\n",
    "print('Lower cutoff: ', lower_cutoff)"
   ]
  },
  {
   "cell_type": "code",
   "execution_count": 16,
   "id": "42d9b78b",
   "metadata": {},
   "outputs": [
    {
     "data": {
      "text/plain": [
       "(90128, 5)"
      ]
     },
     "execution_count": 16,
     "metadata": {},
     "output_type": "execute_result"
    }
   ],
   "source": [
    "df_final = df[(df['sum_gamerounds']<=upper_cutoff) & (df['sum_gamerounds']>=lower_cutoff)]\n",
    "df_final.shape"
   ]
  },
  {
   "cell_type": "code",
   "execution_count": 17,
   "id": "8ef36409",
   "metadata": {},
   "outputs": [
    {
     "data": {
      "text/html": [
       "<div>\n",
       "<style scoped>\n",
       "    .dataframe tbody tr th:only-of-type {\n",
       "        vertical-align: middle;\n",
       "    }\n",
       "\n",
       "    .dataframe tbody tr th {\n",
       "        vertical-align: top;\n",
       "    }\n",
       "\n",
       "    .dataframe thead th {\n",
       "        text-align: right;\n",
       "    }\n",
       "</style>\n",
       "<table border=\"1\" class=\"dataframe\">\n",
       "  <thead>\n",
       "    <tr style=\"text-align: right;\">\n",
       "      <th></th>\n",
       "      <th>userid</th>\n",
       "      <th>sum_gamerounds</th>\n",
       "    </tr>\n",
       "  </thead>\n",
       "  <tbody>\n",
       "    <tr>\n",
       "      <th>count</th>\n",
       "      <td>9.012800e+04</td>\n",
       "      <td>90128.000000</td>\n",
       "    </tr>\n",
       "    <tr>\n",
       "      <th>mean</th>\n",
       "      <td>4.998793e+06</td>\n",
       "      <td>50.309637</td>\n",
       "    </tr>\n",
       "    <tr>\n",
       "      <th>std</th>\n",
       "      <td>2.883142e+06</td>\n",
       "      <td>94.468697</td>\n",
       "    </tr>\n",
       "    <tr>\n",
       "      <th>min</th>\n",
       "      <td>1.160000e+02</td>\n",
       "      <td>0.000000</td>\n",
       "    </tr>\n",
       "    <tr>\n",
       "      <th>25%</th>\n",
       "      <td>2.512420e+06</td>\n",
       "      <td>5.000000</td>\n",
       "    </tr>\n",
       "    <tr>\n",
       "      <th>50%</th>\n",
       "      <td>4.996498e+06</td>\n",
       "      <td>16.000000</td>\n",
       "    </tr>\n",
       "    <tr>\n",
       "      <th>75%</th>\n",
       "      <td>7.496498e+06</td>\n",
       "      <td>51.000000</td>\n",
       "    </tr>\n",
       "    <tr>\n",
       "      <th>max</th>\n",
       "      <td>9.999861e+06</td>\n",
       "      <td>1230.000000</td>\n",
       "    </tr>\n",
       "  </tbody>\n",
       "</table>\n",
       "</div>"
      ],
      "text/plain": [
       "             userid  sum_gamerounds\n",
       "count  9.012800e+04    90128.000000\n",
       "mean   4.998793e+06       50.309637\n",
       "std    2.883142e+06       94.468697\n",
       "min    1.160000e+02        0.000000\n",
       "25%    2.512420e+06        5.000000\n",
       "50%    4.996498e+06       16.000000\n",
       "75%    7.496498e+06       51.000000\n",
       "max    9.999861e+06     1230.000000"
      ]
     },
     "execution_count": 17,
     "metadata": {},
     "output_type": "execute_result"
    }
   ],
   "source": [
    "df_final.describe()"
   ]
  },
  {
   "cell_type": "markdown",
   "id": "b113c6e6",
   "metadata": {},
   "source": [
    "# Retention"
   ]
  },
  {
   "cell_type": "code",
   "execution_count": 18,
   "id": "bbdee599",
   "metadata": {},
   "outputs": [
    {
     "name": "stdout",
     "output_type": "stream",
     "text": [
      "Retention after 1 day for Control group: 44.78 %\n",
      "Retention after 1 day for Treatment group: 44.19 %\n"
     ]
    }
   ],
   "source": [
    "print('Retention after 1 day for Control group:', np.round(df_final[df_final['version'] == 'gate_30']\n",
    "      ['retention_1'].sum()/df_final[df_final['version'] == 'gate_30'].shape[0] * 100,2),'%')\n",
    "\n",
    "print('Retention after 1 day for Treatment group:', np.round(df_final[df_final['version'] == 'gate_40']\n",
    "      ['retention_1'].sum()/df_final[df_final['version'] == 'gate_40'].shape[0] * 100,2),'%')\n"
   ]
  },
  {
   "cell_type": "code",
   "execution_count": 19,
   "id": "e129a0c3",
   "metadata": {},
   "outputs": [
    {
     "name": "stdout",
     "output_type": "stream",
     "text": [
      "Retention after 7 day for Control group: 18.97 %\n",
      "Retention after 7 day for Treatment group: 18.15 %\n"
     ]
    }
   ],
   "source": [
    "print('Retention after 7 day for Control group:', np.round(df_final[df_final['version'] == 'gate_30']\n",
    "      ['retention_7'].sum()/df_final[df_final['version'] == 'gate_30'].shape[0] * 100,2),'%')\n",
    "\n",
    "print('Retention after 7 day for Treatment group:', np.round(df_final[df_final['version'] == 'gate_40']\n",
    "      ['retention_7'].sum()/df_final[df_final['version'] == 'gate_40'].shape[0] * 100,2),'%')\n"
   ]
  },
  {
   "cell_type": "markdown",
   "id": "5d4fc156",
   "metadata": {},
   "source": [
    "# Shapiro Normality Test\n",
    "\n",
    "- H0 (Null hypothesis) - Distribution is normal\n",
    "- H1 (Alternate hypothesis) - Distribution is not normal"
   ]
  },
  {
   "cell_type": "code",
   "execution_count": 20,
   "id": "5eb87bce",
   "metadata": {},
   "outputs": [],
   "source": [
    "def normality(gate):\n",
    "    test_stat, pvalue = shapiro(df_final.loc[df[\"version\"] == gate, \"sum_gamerounds\"])\n",
    "    print('Test Stat = %.5f, p-value = %.5f' % (test_stat, pvalue))\n",
    "    if pvalue<0.05:\n",
    "        print('Not normally distributed')\n",
    "    else:\n",
    "        print('Normally distributed')\n",
    "    return"
   ]
  },
  {
   "cell_type": "code",
   "execution_count": 21,
   "id": "76c4ce2b",
   "metadata": {},
   "outputs": [
    {
     "name": "stdout",
     "output_type": "stream",
     "text": [
      "Normality test got Gate 30:\n",
      "Test Stat = 0.53334, p-value = 0.00000\n",
      "Not normally distributed\n"
     ]
    }
   ],
   "source": [
    "print(\"Normality test got Gate 30:\")\n",
    "normality('gate_30')"
   ]
  },
  {
   "cell_type": "code",
   "execution_count": 22,
   "id": "738e5d0e",
   "metadata": {},
   "outputs": [
    {
     "name": "stdout",
     "output_type": "stream",
     "text": [
      "Normality test got Gate 40:\n",
      "Test Stat = 0.52674, p-value = 0.00000\n",
      "Not normally distributed\n"
     ]
    }
   ],
   "source": [
    "print(\"Normality test got Gate 40:\")\n",
    "normality('gate_40')"
   ]
  },
  {
   "cell_type": "markdown",
   "id": "56f5e3a0",
   "metadata": {},
   "source": [
    "### Since the p-value is less than 0.05 for both groups, we can reject the null hypothesis and conclude that the distribution is not normal"
   ]
  },
  {
   "cell_type": "markdown",
   "id": "985e3afb",
   "metadata": {},
   "source": [
    "# Homegenity Test\n",
    "\n",
    "- H0 (Null hypothesis) - Variance is homogeneous\n",
    "- H1 (Alternate hypothesis) - Variance is not homogeneous"
   ]
  },
  {
   "cell_type": "code",
   "execution_count": 23,
   "id": "c6ea0a42",
   "metadata": {},
   "outputs": [],
   "source": [
    "def homogenity(gate1, gate2):\n",
    "    test_stat, pvalue = levene(df_final[df_final[\"version\"] == gate1][\"sum_gamerounds\"], \n",
    "                               df_final[df_final[\"version\"] == gate2][\"sum_gamerounds\"])\n",
    "    print('Test Stat = %.5f, p-value = %.5f' % (test_stat, pvalue))\n",
    "    if pvalue<0.05:\n",
    "        print('Not Homeogenous')\n",
    "    else:\n",
    "        print('Homeogenous')\n",
    "    return"
   ]
  },
  {
   "cell_type": "code",
   "execution_count": 24,
   "id": "372b2b04",
   "metadata": {},
   "outputs": [
    {
     "name": "stdout",
     "output_type": "stream",
     "text": [
      "Homogenity test:\n",
      "Test Stat = 0.04206, p-value = 0.83751\n",
      "Homeogenous\n"
     ]
    }
   ],
   "source": [
    "print(\"Homogenity test:\")\n",
    "homogenity('gate_30', 'gate_40')"
   ]
  },
  {
   "cell_type": "markdown",
   "id": "145b3dcf",
   "metadata": {},
   "source": [
    "### Since the p-value is greater than 0.05, we fail to reject the null hypothesis and conclude that it is homogeneous"
   ]
  },
  {
   "cell_type": "markdown",
   "id": "b96f5f59",
   "metadata": {},
   "source": [
    "### Since the null hypothesis for Levene test of homegenity is not rejected, we will perform non-parametric test\n",
    "\n",
    "### On the other hand, \n",
    "\n",
    "- if we have found that the distributions are normal and the variances are homogeneous, we would have performed parametric test (T-test or Z-Test)\n",
    "\n",
    "- if we have found that the distributions are normal and the variances are not homogeneous, we would have performed Welch test\n"
   ]
  },
  {
   "cell_type": "markdown",
   "id": "525a261f",
   "metadata": {},
   "source": [
    "# Non Parametric Test\n",
    "\n",
    "- H0 (Null hypothesis) - There is no significant difference\n",
    "- H1 (Alternate hypothesis) - There is significant difference"
   ]
  },
  {
   "cell_type": "markdown",
   "id": "f4df33e2",
   "metadata": {},
   "source": [
    "### Since the distribution is not Normal; we will perform Mann Whitney U Test (non-parametric test)"
   ]
  },
  {
   "cell_type": "code",
   "execution_count": 25,
   "id": "563ed8a5",
   "metadata": {},
   "outputs": [],
   "source": [
    "def mannwhitney(gate1, gate2):\n",
    "    test_stat, pvalue = mannwhitneyu(df_final[df_final[\"version\"] == gate1][\"sum_gamerounds\"], \n",
    "                               df_final[df_final[\"version\"] == gate2][\"sum_gamerounds\"])\n",
    "    print('Test Stat = %.5f, p-value = %.5f' % (test_stat, pvalue))\n",
    "    if pvalue<0.05:\n",
    "        print('There is significance between control and experiment groups')\n",
    "    else:\n",
    "        print('There is no significance between control and experiment groups')\n",
    "    return"
   ]
  },
  {
   "cell_type": "code",
   "execution_count": 26,
   "id": "35c6e39f",
   "metadata": {},
   "outputs": [
    {
     "name": "stdout",
     "output_type": "stream",
     "text": [
      "Mann Whitney U Test: \n",
      "Test Stat = 1022967070.00000, p-value = 0.04966\n",
      "There is significance between control and experiment groups\n"
     ]
    }
   ],
   "source": [
    "print('Mann Whitney U Test: ')\n",
    "mannwhitney('gate_30', 'gate_40')"
   ]
  },
  {
   "cell_type": "markdown",
   "id": "4708b094",
   "metadata": {},
   "source": [
    "### Since the p-value is less than 0.05, we reject the null hypothesis and conclude that there is significant difference between control and experimental groups\n",
    "\n",
    "### Hence A/B groups are not similar. We can move the gate level from 30 to 40. "
   ]
  },
  {
   "cell_type": "markdown",
   "id": "59ef3c8f",
   "metadata": {},
   "source": [
    "## Reference:\n",
    "\n",
    "- https://towardsdatascience.com/simple-and-complet-guide-to-a-b-testing-c34154d0ce5a"
   ]
  }
 ],
 "metadata": {
  "kernelspec": {
   "display_name": "Python 3.9 (tensorflow)",
   "language": "python",
   "name": "tensorflow"
  },
  "language_info": {
   "codemirror_mode": {
    "name": "ipython",
    "version": 3
   },
   "file_extension": ".py",
   "mimetype": "text/x-python",
   "name": "python",
   "nbconvert_exporter": "python",
   "pygments_lexer": "ipython3",
   "version": "3.9.13"
  }
 },
 "nbformat": 4,
 "nbformat_minor": 5
}
